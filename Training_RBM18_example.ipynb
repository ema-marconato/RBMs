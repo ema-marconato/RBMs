{
  "nbformat": 4,
  "nbformat_minor": 0,
  "metadata": {
    "colab": {
      "name": "Training-RBM18.ipynb",
      "provenance": [],
      "collapsed_sections": []
    },
    "kernelspec": {
      "name": "python3",
      "display_name": "Python 3"
    },
    "accelerator": "GPU"
  },
  "cells": [
    {
      "cell_type": "code",
      "metadata": {
        "id": "w2I2VzefadQe"
      },
      "source": [
        "import main_module as mod\n",
        "import torch\n",
        "import numpy as np\n",
        "from torch.utils.data import Dataset\n",
        "import progressbar\n",
        "import matplotlib.pyplot as plt\n",
        "import progressbar\n",
        "\n",
        "#Import all the dataset from magneto simulation\n",
        "spins = mod.txt_Ising_dataset(\"spins180.txt\", size= 100000, L=8)\n",
        "rbm = mod.RBM(64,64)"
      ],
      "execution_count": null,
      "outputs": []
    },
    {
      "cell_type": "code",
      "metadata": {
        "id": "ZR-CfJZgklby"
      },
      "source": [
        "#Training procedure\n",
        "z1,  loss1 = mod.train_rbm(rbm,spins.imgs, 1.8, nb_epoch=2000,  k_CD=1,lr=0.1, L=8, print_log=3000)\n",
        "z2,  loss2 = mod.train_rbm(rbm,spins.imgs, 1.8, nb_epoch=1000, k_CD=5,lr=0.01, L=8, print_log=1000)\n",
        "z3,  loss3 = mod.train_rbm(rbm,spins.imgs, 1.8, nb_epoch=1000, k_CD=10,lr=0.001, L=8,print_log=1000)\n",
        "\n",
        "#Saving weights\n",
        "torch.save(rbm.W, \"W100k-8-18.b\")\n",
        "torch.save(rbm.b, \"b100k-8-18.b\")\n",
        "torch.save(rbm.c, \"c100k-8-18.b\")\n"
      ],
      "execution_count": null,
      "outputs": []
    }
  ]
}